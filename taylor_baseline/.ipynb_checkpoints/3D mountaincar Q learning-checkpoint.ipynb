{
 "cells": [
  {
   "cell_type": "code",
   "execution_count": 21,
   "metadata": {
    "collapsed": true
   },
   "outputs": [],
   "source": [
    "%matplotlib inline\n",
    "\n",
    "import gym\n",
    "import itertools\n",
    "import matplotlib\n",
    "import numpy as np\n",
    "import sys\n",
    "import sklearn.pipeline\n",
    "import sklearn.preprocessing\n",
    "\n",
    "if \"./\" not in sys.path:\n",
    "    sys.path.append(\"./\") \n",
    "\n",
    "from lib import plotting\n",
    "from lib.env.threedmountain_car import ThreeDMountainCarEnv\n",
    "from sklearn.linear_model import SGDRegressor\n",
    "from sklearn.kernel_approximation import RBFSampler\n",
    "\n",
    "matplotlib.style.use('ggplot')"
   ]
  },
  {
   "cell_type": "code",
   "execution_count": 22,
   "metadata": {
    "collapsed": true
   },
   "outputs": [],
   "source": [
    "env = ThreeDMountainCarEnv()"
   ]
  },
  {
   "cell_type": "code",
   "execution_count": 23,
   "metadata": {},
   "outputs": [
    {
     "data": {
      "text/plain": [
       "FeatureUnion(n_jobs=1,\n",
       "       transformer_list=[('rbf1', RBFSampler(gamma=5.0, n_components=100, random_state=None)), ('rbf2', RBFSampler(gamma=2.0, n_components=100, random_state=None)), ('rbf3', RBFSampler(gamma=1.0, n_components=100, random_state=None)), ('rbf4', RBFSampler(gamma=0.5, n_components=100, random_state=None))],\n",
       "       transformer_weights=None)"
      ]
     },
     "execution_count": 23,
     "metadata": {},
     "output_type": "execute_result"
    }
   ],
   "source": [
    "# Feature Preprocessing: Normalize to zero mean and unit variance\n",
    "# We use a few samples from the observation space to do this\n",
    "observation_examples = np.array([env.observation_space.sample() for x in range(10000)])\n",
    "scaler = sklearn.preprocessing.StandardScaler()\n",
    "scaler.fit(observation_examples)\n",
    "\n",
    "# Used to converte a state to a featurizes represenation.\n",
    "# We use RBF kernels with different variances to cover different parts of the space\n",
    "featurizer = sklearn.pipeline.FeatureUnion([\n",
    "        (\"rbf1\", RBFSampler(gamma=5.0, n_components=100)),\n",
    "        (\"rbf2\", RBFSampler(gamma=2.0, n_components=100)),\n",
    "        (\"rbf3\", RBFSampler(gamma=1.0, n_components=100)),\n",
    "        (\"rbf4\", RBFSampler(gamma=0.5, n_components=100))\n",
    "        ])\n",
    "featurizer.fit(scaler.transform(observation_examples))"
   ]
  },
  {
   "cell_type": "code",
   "execution_count": 24,
   "metadata": {
    "collapsed": true
   },
   "outputs": [],
   "source": [
    "class Estimator():\n",
    "    \"\"\"\n",
    "    Value Function approximator. \n",
    "    \"\"\"\n",
    "    \n",
    "    def __init__(self):\n",
    "        # We create a separate model for each action in the environment's\n",
    "        # action space. Alternatively we could somehow encode the action\n",
    "        # into the features, but this way it's easier to code up.\n",
    "        self.models = []\n",
    "        for _ in range(env.action_space.n):\n",
    "            model = SGDRegressor(learning_rate=\"constant\")\n",
    "            # We need to call partial_fit once to initialize the model\n",
    "            # or we get a NotFittedError when trying to make a prediction\n",
    "            # This is quite hacky.\n",
    "            model.partial_fit([self.featurize_state(env.reset())], [0])\n",
    "            self.models.append(model)\n",
    "    \n",
    "    def featurize_state(self, state):\n",
    "        \"\"\"\n",
    "        Returns the featurized representation for a state.\n",
    "        \"\"\"\n",
    "        scaled = scaler.transform([state])\n",
    "        featurized = featurizer.transform(scaled)\n",
    "        return featurized[0]\n",
    "    \n",
    "    def predict(self, s, a=None):\n",
    "        \"\"\"\n",
    "        Makes value function predictions.\n",
    "        \n",
    "        Args:\n",
    "            s: state to make a prediction for\n",
    "            a: (Optional) action to make a prediction for\n",
    "            \n",
    "        Returns\n",
    "            If an action a is given this returns a single number as the prediction.\n",
    "            If no action is given this returns a vector or predictions for all actions\n",
    "            in the environment where pred[i] is the prediction for action i.\n",
    "            \n",
    "        \"\"\"\n",
    "        features = self.featurize_state(s)\n",
    "        if not a:\n",
    "            return np.array([m.predict([features])[0] for m in self.models])\n",
    "        else:\n",
    "            return self.models[a].predict([features])[0]\n",
    "    \n",
    "    def update(self, s, a, y):\n",
    "        \"\"\"\n",
    "        Updates the estimator parameters for a given state and action towards\n",
    "        the target y.\n",
    "        \"\"\"\n",
    "        features = self.featurize_state(s)\n",
    "        self.models[a].partial_fit([features], [y])"
   ]
  },
  {
   "cell_type": "code",
   "execution_count": 25,
   "metadata": {
    "collapsed": true
   },
   "outputs": [],
   "source": [
    "def make_epsilon_greedy_policy(estimator, epsilon, nA):\n",
    "    \"\"\"\n",
    "    Creates an epsilon-greedy policy based on a given Q-function approximator and epsilon.\n",
    "    \n",
    "    Args:\n",
    "        estimator: An estimator that returns q values for a given state\n",
    "        epsilon: The probability to select a random action . float between 0 and 1.\n",
    "        nA: Number of actions in the environment.\n",
    "    \n",
    "    Returns:\n",
    "        A function that takes the observation as an argument and returns\n",
    "        the probabilities for each action in the form of a numpy array of length nA.\n",
    "    \n",
    "    \"\"\"\n",
    "    def policy_fn(observation):\n",
    "        A = np.ones(nA, dtype=float) * epsilon / nA\n",
    "        q_values = estimator.predict(observation)\n",
    "        best_action = np.argmax(q_values)\n",
    "        A[best_action] += (1.0 - epsilon)\n",
    "        return A\n",
    "    return policy_fn"
   ]
  },
  {
   "cell_type": "code",
   "execution_count": 26,
   "metadata": {
    "collapsed": true
   },
   "outputs": [],
   "source": [
    "def q_learning(env, estimator, num_episodes, discount_factor=1.0, epsilon=0.7, epsilon_decay=0.7):\n",
    "    \"\"\"\n",
    "    Q-Learning algorithm for fff-policy TD control using Function Approximation.\n",
    "    Finds the optimal greedy policy while following an epsilon-greedy policy.\n",
    "    \n",
    "    Args:\n",
    "        env: OpenAI environment.\n",
    "        estimator: Action-Value function estimator\n",
    "        num_episodes: Number of episodes to run for.\n",
    "        discount_factor: Lambda time discount factor.\n",
    "        epsilon: Chance the sample a random action. Float betwen 0 and 1.\n",
    "        epsilon_decay: Each episode, epsilon is decayed by this factor\n",
    "    \n",
    "    Returns:\n",
    "        An EpisodeStats object with two numpy arrays for episode_lengths and episode_rewards.\n",
    "    \"\"\"\n",
    "\n",
    "    # Keeps track of useful statistics\n",
    "    stats = plotting.EpisodeStats(\n",
    "        episode_lengths=np.zeros(num_episodes),\n",
    "        episode_rewards=np.zeros(num_episodes))    \n",
    "    \n",
    "    for i_episode in range(num_episodes):\n",
    "        \n",
    "        # The policy we're following\n",
    "        policy = make_epsilon_greedy_policy(\n",
    "            estimator, epsilon * epsilon_decay**i_episode, env.action_space.n)\n",
    "        \n",
    "        # Print out which episode we're on, useful for debugging.\n",
    "        # Also print reward for last episode\n",
    "        last_reward = stats.episode_rewards[i_episode - 1]\n",
    "        sys.stdout.flush()\n",
    "        \n",
    "        # Reset the environment and pick the first action\n",
    "        state = env.reset()\n",
    "        \n",
    "        # Only used for SARSA, not Q-Learning\n",
    "        next_action = None\n",
    "        \n",
    "        # One step in the environment\n",
    "        for t in itertools.count():\n",
    "                        \n",
    "            # Choose an action to take\n",
    "            # If we're using SARSA we already decided in the previous step\n",
    "            if next_action is None:\n",
    "                action_probs = policy(state)\n",
    "                action = np.random.choice(np.arange(len(action_probs)), p=action_probs)\n",
    "            else:\n",
    "                action = next_action\n",
    "            \n",
    "            # Take a step\n",
    "            next_state, reward, done, _ = env.step(action)\n",
    "#             print(next_state)\n",
    "#             print(action)\n",
    "    \n",
    "            # Update statistics\n",
    "            stats.episode_rewards[i_episode] += reward\n",
    "            stats.episode_lengths[i_episode] = t\n",
    "            \n",
    "            # TD Update\n",
    "            q_values_next = estimator.predict(next_state)\n",
    "            \n",
    "            # Use this code for Q-Learning\n",
    "            # Q-Value TD Target\n",
    "            td_target = reward + discount_factor * np.max(q_values_next)\n",
    "            \n",
    "            # Use this code for SARSA TD Target for on policy-training:\n",
    "            # next_action_probs = policy(next_state)\n",
    "            # next_action = np.random.choice(np.arange(len(next_action_probs)), p=next_action_probs)             \n",
    "            # td_target = reward + discount_factor * q_values_next[next_action]\n",
    "            \n",
    "            # Update the function approximator using our target\n",
    "            estimator.update(state, action, td_target)\n",
    "            \n",
    "            print(\"\\rStep {} @ Episode {}/{} ({})\".format(t, i_episode + 1, num_episodes, last_reward), end=\"\")\n",
    "                \n",
    "            if done:\n",
    "                print(next_state)\n",
    "                break\n",
    "                \n",
    "            state = next_state\n",
    "    \n",
    "    return stats"
   ]
  },
  {
   "cell_type": "code",
   "execution_count": 27,
   "metadata": {},
   "outputs": [
    {
     "name": "stderr",
     "output_type": "stream",
     "text": [
      "c:\\users\\junwe\\appdata\\local\\programs\\python\\python35\\lib\\site-packages\\sklearn\\linear_model\\stochastic_gradient.py:84: FutureWarning: max_iter and tol parameters have been added in <class 'sklearn.linear_model.stochastic_gradient.SGDRegressor'> in 0.19. If both are left unset, they default to max_iter=5 and tol=None. If tol is not None, max_iter defaults to max_iter=1000. From 0.21, default max_iter will be 1000, and default tol will be 1e-3.\n",
      "  \"and default tol will be 1e-3.\" % type(self), FutureWarning)\n"
     ]
    }
   ],
   "source": [
    "estimator = Estimator()"
   ]
  },
  {
   "cell_type": "code",
   "execution_count": 29,
   "metadata": {
    "scrolled": false
   },
   "outputs": [
    {
     "name": "stdout",
     "output_type": "stream",
     "text": [
      "Step 8352 @ Episode 1/100 (0.0)[ 0.6         0.49542799  0.07        0.02275202]\n",
      "Step 2529 @ Episode 2/100 (-8353.0)[ 0.48440701  0.6         0.0183701   0.06784003]\n",
      "Step 2617 @ Episode 3/100 (-2530.0)[ 0.49043367  0.6         0.01200062  0.06568005]\n",
      "Step 6404 @ Episode 4/100 (-2618.0)[ 0.6         0.49140965  0.01864626  0.01044901]\n",
      "Step 6393 @ Episode 5/100 (-6405.0)[ 0.47895765  0.6         0.02635159  0.07      ]\n",
      "Step 6043 @ Episode 6/100 (-6394.0)[ 0.6         0.48899519  0.07        0.02009408]\n",
      "Step 2043 @ Episode 7/100 (-6044.0)[ 0.6         0.49411662  0.07        0.00848994]\n",
      "Step 4143 @ Episode 8/100 (-2044.0)[ 0.4806041   0.6         0.03312593  0.07      ]\n",
      "Step 744 @ Episode 9/100 (-4144.0)[ 0.48297534  0.6         0.02548406  0.07      ]\n",
      "Step 730 @ Episode 10/100 (-745.0)[ 0.48823206  0.6         0.03849468  0.07      ]\n",
      "Step 3442 @ Episode 11/100 (-731.0)[ 0.56574595  0.4820956  -0.00508331  0.01878764]\n",
      "Step 2149 @ Episode 12/100 (-3443.0)[ 0.49345718  0.6         0.0317891   0.07      ]\n",
      "Step 572 @ Episode 13/100 (-2150.0)[ 0.49226447  0.6         0.01334692  0.07      ]\n",
      "Step 578 @ Episode 14/100 (-573.0)[ 0.49858831  0.6         0.01211014  0.07      ]\n",
      "Step 1031 @ Episode 15/100 (-579.0)[ 0.47061484  0.6         0.03979264  0.07      ]\n",
      "Step 688 @ Episode 16/100 (-1032.0)[ 0.48563993  0.6         0.0238577   0.07      ]\n",
      "Step 854 @ Episode 17/100 (-689.0)[ 0.6         0.49672458  0.04837737  0.00943669]\n",
      "Step 1060 @ Episode 18/100 (-855.0)[ 0.46919381  0.6         0.03411278  0.06600917]\n",
      "Step 721 @ Episode 19/100 (-1061.0)[ 0.46663045  0.6         0.04355118  0.07      ]\n",
      "Step 439 @ Episode 20/100 (-722.0)[ 0.49534609  0.6         0.03477613  0.05469908]\n",
      "Step 549 @ Episode 21/100 (-440.0)[ 0.59888399  0.49500646 -0.00077525  0.0257817 ]\n",
      "Step 592 @ Episode 22/100 (-550.0)[ 0.4634403   0.6         0.03925026  0.05858455]\n",
      "Step 490 @ Episode 23/100 (-593.0)[ 0.46825905  0.6         0.03575348  0.05485128]\n",
      "Step 713 @ Episode 24/100 (-491.0)[ 0.49717901  0.6         0.02936436  0.05867149]\n",
      "Step 462 @ Episode 25/100 (-714.0)[ 0.49253171  0.6         0.03365045  0.05992583]\n",
      "Step 517 @ Episode 26/100 (-463.0)[ 0.485287    0.6         0.02581877  0.0499183 ]\n",
      "Step 657 @ Episode 27/100 (-518.0)[ 0.4908793   0.6         0.02719353  0.04238722]\n",
      "Step 589 @ Episode 28/100 (-658.0)[ 0.48967982  0.6         0.0256001   0.05454535]\n",
      "Step 891 @ Episode 29/100 (-590.0)[ 0.6         0.49615478  0.04752059  0.02893792]\n",
      "Step 471 @ Episode 30/100 (-892.0)[ 0.51977449  0.4848631  -0.00800108  0.02992922]\n",
      "Step 783 @ Episode 31/100 (-472.0)[ 0.48815904  0.6         0.02488455  0.06240392]\n",
      "Step 361 @ Episode 32/100 (-784.0)[ 0.46635533  0.6         0.03412197  0.06409412]\n",
      "Step 734 @ Episode 33/100 (-362.0)[ 0.47923863  0.6         0.03129346  0.05673363]\n",
      "Step 811 @ Episode 34/100 (-735.0)[ 0.48644305  0.6         0.03185835  0.05767868]\n",
      "Step 464 @ Episode 35/100 (-812.0)[ 0.48409663  0.6         0.02800347  0.07      ]\n",
      "Step 1844 @ Episode 36/100 (-465.0)[ 0.49877555  0.6         0.02988603  0.05773179]\n",
      "Step 1158 @ Episode 37/100 (-1845.0)[ 0.49455151  0.6         0.03105071  0.062556  ]\n",
      "Step 560 @ Episode 38/100 (-1159.0)[ 0.48301282  0.6         0.03267583  0.07      ]\n",
      "Step 424 @ Episode 39/100 (-561.0)[ 0.4687781   0.6         0.03410067  0.05227919]\n",
      "Step 450 @ Episode 40/100 (-425.0)[ 0.47494854  0.6         0.03211289  0.06879715]\n",
      "Step 736 @ Episode 41/100 (-451.0)[ 0.49847511  0.6         0.02888857  0.05121011]\n",
      "Step 358 @ Episode 42/100 (-737.0)[ 0.4884533   0.6         0.03849396  0.02725392]\n",
      "Step 602 @ Episode 43/100 (-359.0)[ 0.48891304  0.6         0.02721561  0.06445778]\n",
      "Step 376 @ Episode 44/100 (-603.0)[ 0.49636656  0.6         0.03345633  0.07      ]\n",
      "Step 500 @ Episode 45/100 (-377.0)[ 0.48690099  0.6         0.03941651  0.06146975]\n",
      "Step 407 @ Episode 46/100 (-501.0)[ 0.48422605  0.6         0.03318139  0.07      ]\n",
      "Step 326 @ Episode 47/100 (-408.0)[ 0.4868204   0.6         0.03327466  0.03702267]\n",
      "Step 608 @ Episode 48/100 (-327.0)[ 0.47136827  0.6         0.03203199  0.0598588 ]\n",
      "Step 490 @ Episode 49/100 (-609.0)[ 0.47212725  0.6         0.03574954  0.06035071]\n",
      "Step 844 @ Episode 50/100 (-491.0)[ 0.6         0.48530948  0.00689291  0.01622753]\n",
      "Step 505 @ Episode 51/100 (-845.0)[ 0.47969809  0.6         0.03348828  0.07      ]\n",
      "Step 811 @ Episode 52/100 (-506.0)[ 0.46830933  0.6         0.03602607  0.05334336]\n",
      "Step 241 @ Episode 53/100 (-812.0)[ 0.6         0.49934754  0.01777576  0.0317729 ]\n",
      "Step 403 @ Episode 54/100 (-242.0)[ 0.46727878  0.6         0.03243054  0.07      ]\n",
      "Step 462 @ Episode 55/100 (-404.0)[ 0.48488659  0.6         0.03106478  0.05968043]\n",
      "Step 712 @ Episode 56/100 (-463.0)[ 0.47517792  0.6         0.02976784  0.07      ]\n",
      "Step 482 @ Episode 57/100 (-713.0)[ 0.497933    0.6         0.0201378   0.01343534]\n",
      "Step 883 @ Episode 58/100 (-483.0)[ 0.46904883  0.6         0.03153518  0.06547585]\n",
      "Step 460 @ Episode 59/100 (-884.0)[ 0.47019663  0.6         0.03920299  0.05965845]\n",
      "Step 272 @ Episode 60/100 (-461.0)[ 0.48053363  0.6         0.03541205  0.07      ]\n",
      "Step 385 @ Episode 61/100 (-273.0)[ 0.48199369  0.6         0.04542759  0.06159037]\n",
      "Step 294 @ Episode 62/100 (-386.0)[ 0.48675277  0.6         0.04286426  0.05711786]\n",
      "Step 3261 @ Episode 63/100 (-295.0)[ 0.47663589  0.6         0.03693682  0.07      ]\n",
      "Step 443 @ Episode 64/100 (-3262.0)[ 0.49524323  0.6         0.04702192  0.0597528 ]\n",
      "Step 419 @ Episode 65/100 (-444.0)[ 0.46817954  0.6         0.03930599  0.07      ]\n",
      "Step 377 @ Episode 66/100 (-420.0)[ 0.4908621   0.6         0.04789844  0.05694004]\n",
      "Step 506 @ Episode 67/100 (-378.0)[ 0.49096661  0.6         0.04025693  0.07      ]\n",
      "Step 834 @ Episode 68/100 (-507.0)[ 0.6         0.49482722  0.07        0.0204598 ]\n",
      "Step 405 @ Episode 69/100 (-835.0)[ 0.49503622  0.6         0.0441048   0.07      ]\n",
      "Step 278 @ Episode 70/100 (-406.0)[ 0.45833197  0.6         0.04675722  0.06481934]\n",
      "Step 334 @ Episode 71/100 (-279.0)[ 0.49347986  0.6         0.04881451  0.05740978]\n",
      "Step 616 @ Episode 72/100 (-335.0)[ 0.6         0.48796962  0.07        0.01662951]\n",
      "Step 285 @ Episode 73/100 (-617.0)[ 0.4928312   0.6         0.04847194  0.04990019]\n",
      "Step 468 @ Episode 74/100 (-286.0)[ 0.47928998  0.6         0.0435144   0.07      ]\n",
      "Step 476 @ Episode 75/100 (-469.0)[ 0.48511299  0.6         0.04804346  0.06094645]\n",
      "Step 356 @ Episode 76/100 (-477.0)[ 0.47706757  0.6         0.04799289  0.07      ]\n",
      "Step 293 @ Episode 77/100 (-357.0)[ 0.47638978  0.6         0.04674492  0.07      ]\n",
      "Step 287 @ Episode 78/100 (-294.0)[ 0.49511593  0.6         0.04497076  0.07      ]\n",
      "Step 382 @ Episode 79/100 (-288.0)[ 0.48962073  0.6         0.04879004  0.0591951 ]\n",
      "Step 298 @ Episode 80/100 (-383.0)[ 0.47631979  0.6         0.03334625  0.07      ]\n",
      "Step 353 @ Episode 81/100 (-299.0)[ 0.49448577  0.6         0.01026477  0.07      ]\n",
      "Step 315 @ Episode 82/100 (-354.0)[ 0.4657694   0.6         0.04248371  0.06916319]\n",
      "Step 407 @ Episode 83/100 (-316.0)[ 0.46242658  0.6         0.04785295  0.04654873]\n",
      "Step 306 @ Episode 84/100 (-408.0)[ 0.48329371  0.6         0.04723921  0.06532601]\n",
      "Step 342 @ Episode 85/100 (-307.0)[ 0.49636686  0.6         0.01551648  0.07      ]\n",
      "Step 341 @ Episode 86/100 (-343.0)[ 0.6         0.49564578  0.04446877  0.0279389 ]\n",
      "Step 300 @ Episode 87/100 (-342.0)[ 0.48352478  0.6         0.04639396  0.07      ]\n",
      "Step 323 @ Episode 88/100 (-301.0)[ 0.48690072  0.6         0.04923175  0.07      ]\n",
      "Step 297 @ Episode 89/100 (-324.0)[ 0.49039064  0.6         0.04906658  0.06015847]\n",
      "Step 446 @ Episode 90/100 (-298.0)[ 0.47524592  0.6         0.0489474   0.03124965]\n",
      "Step 1248 @ Episode 91/100 (-447.0)[ 0.6         0.49200901  0.07        0.0236939 ]\n",
      "Step 326 @ Episode 92/100 (-1249.0)[ 0.47164749  0.6         0.0490591   0.07      ]\n",
      "Step 418 @ Episode 93/100 (-327.0)[ 0.45966508  0.6         0.04841126  0.05552324]\n",
      "Step 489 @ Episode 94/100 (-419.0)[ 0.47610607  0.6         0.04627532  0.06686121]\n",
      "Step 448 @ Episode 95/100 (-490.0)[ 0.49415574  0.6         0.04908886  0.07      ]\n",
      "Step 328 @ Episode 96/100 (-449.0)[ 0.4636534   0.6         0.04854291  0.05468276]\n",
      "Step 477 @ Episode 97/100 (-329.0)[ 0.45966508  0.6         0.04841126  0.041279  ]\n"
     ]
    },
    {
     "name": "stdout",
     "output_type": "stream",
     "text": [
      "Step 661 @ Episode 98/100 (-478.0)[ 0.49022804  0.6         0.04899836  0.06197146]\n",
      "Step 333 @ Episode 99/100 (-662.0)[ 0.4928312   0.6         0.04847194  0.02814412]\n",
      "Step 381 @ Episode 100/100 (-334.0)[ 0.4599986   0.6         0.04868216  0.04468424]\n"
     ]
    }
   ],
   "source": [
    "# Note: For the Mountain Car we don't actually need an epsilon > 0.0\n",
    "# because our initial estimate for all states is too \"optimistic\" which leads\n",
    "# to the exploration of all states.\n",
    "stats = q_learning(env, estimator, 100, epsilon=0)"
   ]
  },
  {
   "cell_type": "code",
   "execution_count": 30,
   "metadata": {
    "collapsed": true
   },
   "outputs": [],
   "source": [
    "# plotting.plot_cost_to_go_mountain_car(env, estimator)\n",
    "# plotting.plot_episode_stats(stats, smoothing_window=25)"
   ]
  },
  {
   "cell_type": "code",
   "execution_count": null,
   "metadata": {},
   "outputs": [],
   "source": [
    "done = 0\n",
    "policy = make_epsilon_greedy_policy(estimator, 0, env.action_space.n)\n",
    "state = env.reset()\n",
    "for i_episode in range(100000):\n",
    "    action_probs = policy(state)\n",
    "    action = np.random.choice(np.arange(len(action_probs)), p=action_probs)\n",
    "    next_state, reward, done, info = env.step(action)\n",
    "    env.render()\n",
    "    if done:\n",
    "        print('done: {}'.format(state))\n",
    "    #     plt.figure()\n",
    "    #     plt.imshow(env.render(mode='rgb_array'))\n",
    "        # break\n",
    "    state = next_state"
   ]
  },
  {
   "cell_type": "code",
   "execution_count": null,
   "metadata": {},
   "outputs": [],
   "source": [
    "env.gui_close()"
   ]
  },
  {
   "cell_type": "code",
   "execution_count": null,
   "metadata": {
    "collapsed": true
   },
   "outputs": [],
   "source": []
  }
 ],
 "metadata": {
  "kernelspec": {
   "display_name": "Python 3",
   "language": "python",
   "name": "python3"
  },
  "language_info": {
   "codemirror_mode": {
    "name": "ipython",
    "version": 3
   },
   "file_extension": ".py",
   "mimetype": "text/x-python",
   "name": "python",
   "nbconvert_exporter": "python",
   "pygments_lexer": "ipython3",
   "version": "3.5.2"
  }
 },
 "nbformat": 4,
 "nbformat_minor": 2
}
