{
 "cells": [
  {
   "cell_type": "code",
   "execution_count": 1,
   "metadata": {
    "collapsed": true
   },
   "outputs": [],
   "source": [
    "import numpy as np\n",
    "from matplotlib import pyplot as plt\n",
    "import pickle\n",
    "import os\n",
    "\n",
    "import seaborn as sns\n",
    "import pandas as pd"
   ]
  },
  {
   "cell_type": "code",
   "execution_count": null,
   "metadata": {
    "collapsed": false
   },
   "outputs": [],
   "source": []
  },
  {
   "cell_type": "code",
   "execution_count": 2,
   "metadata": {
    "collapsed": false
   },
   "outputs": [
    {
     "data": {
      "text/plain": [
       "['.DS_Store',\n",
       " '.ipynb_checkpoints',\n",
       " '2DMountainCar_2DCartPole_no_transfer.pkl',\n",
       " '2DMountainCar_2DCartPole_no_transfer1.pkl',\n",
       " '2DMountainCar_2DCartPole_with_transfer_random.pkl',\n",
       " '2DMountainCar_2DCartPole_with_transfer_random1.pkl',\n",
       " '2DMountainCar_2DCartPole_with_transfer_random_use_q.pkl',\n",
       " '2DMountainCar_2DCartPole_with_transfer_random_use_q1.pkl',\n",
       " '2DMountainCar_2DCartPole_with_transfer_realistic.pkl',\n",
       " '2DMountainCar_2DCartPole_with_transfer_realistic1.pkl',\n",
       " '2DMountainCar_2DCartPole_with_transfer_realistic_use_q.pkl',\n",
       " '2DMountainCar_2DCartPole_with_transfer_realistic_use_q1.pkl',\n",
       " '2DMountainCar_3DMountainCar_no_transfer.pkl',\n",
       " '2DMountainCar_3DMountainCar_random_Transferred_Optimal.pkl',\n",
       " '2DMountainCar_3DMountainCar_realistic_Transferred_Optimal.pkl',\n",
       " '2DMountainCar_3DMountainCar_with_transfer_random.pkl',\n",
       " '2DMountainCar_3DMountainCar_with_transfer_random_use_q.pkl',\n",
       " '2DMountainCar_3DMountainCar_with_transfer_realistic.pkl',\n",
       " '2DMountainCar_3DMountainCar_with_transfer_realistic_use_q.pkl',\n",
       " 'Acrobot_2DCartPole_no_transfer.pkl',\n",
       " 'Acrobot_2DCartPole_with_transfer_random.pkl',\n",
       " 'Acrobot_2DCartPole_with_transfer_random_use_q.pkl',\n",
       " 'Acrobot_2DCartPole_with_transfer_realistic.pkl',\n",
       " 'Acrobot_2DCartPole_with_transfer_realistic_use_q.pkl',\n",
       " 'breakout_Pong_realistic_Transferred_Optimal.pkl']"
      ]
     },
     "execution_count": 2,
     "metadata": {},
     "output_type": "execute_result"
    }
   ],
   "source": [
    "path = '/Users/dangoldberg/Downloads/ammar_TrRBM/exp_data'\n",
    "\n",
    "files = os.listdir(path)\n",
    "files"
   ]
  },
  {
   "cell_type": "code",
   "execution_count": null,
   "metadata": {
    "collapsed": false
   },
   "outputs": [],
   "source": []
  },
  {
   "cell_type": "code",
   "execution_count": 3,
   "metadata": {
    "collapsed": false
   },
   "outputs": [],
   "source": [
    "# modify this to specify plot you want to make\n",
    "\n",
    "focus = 'breakout_Pong'\n",
    "xlimit = 20\n",
    "#value = 'Rewards'\n",
    "value = 'Cumulative Rewards'\n"
   ]
  },
  {
   "cell_type": "code",
   "execution_count": 4,
   "metadata": {
    "collapsed": false
   },
   "outputs": [
    {
     "name": "stdout",
     "output_type": "stream",
     "text": [
      "[]\n"
     ]
    },
    {
     "ename": "ValueError",
     "evalue": "not enough values to unpack (expected 3, got 0)",
     "output_type": "error",
     "traceback": [
      "\u001b[0;31m---------------------------------------------------------------------------\u001b[0m",
      "\u001b[0;31mValueError\u001b[0m                                Traceback (most recent call last)",
      "\u001b[0;32m<ipython-input-4-6d2641a9fa33>\u001b[0m in \u001b[0;36m<module>\u001b[0;34m()\u001b[0m\n\u001b[1;32m     42\u001b[0m \u001b[0;34m\u001b[0m\u001b[0m\n\u001b[1;32m     43\u001b[0m sns.tsplot(data=tot_df, ci=[68, 95], time=\"Episode\", value=value,\n\u001b[0;32m---> 44\u001b[0;31m                  unit=\"Experiment Number\", condition=\"Experiment Type\")\n\u001b[0m\u001b[1;32m     45\u001b[0m \u001b[0;34m\u001b[0m\u001b[0m\n\u001b[1;32m     46\u001b[0m \u001b[0mplt\u001b[0m\u001b[0;34m.\u001b[0m\u001b[0mtitle\u001b[0m\u001b[0;34m(\u001b[0m\u001b[0mfocus\u001b[0m\u001b[0;34m)\u001b[0m\u001b[0;34m\u001b[0m\u001b[0m\n",
      "\u001b[0;32m//anaconda/lib/python3.5/site-packages/seaborn/timeseries.py\u001b[0m in \u001b[0;36mtsplot\u001b[0;34m(data, time, unit, condition, value, err_style, ci, interpolate, color, estimator, n_boot, err_palette, err_kws, legend, ax, **kwargs)\u001b[0m\n\u001b[1;32m    200\u001b[0m         \u001b[0;32melif\u001b[0m \u001b[0mdata\u001b[0m\u001b[0;34m.\u001b[0m\u001b[0mndim\u001b[0m \u001b[0;34m==\u001b[0m \u001b[0;36m2\u001b[0m\u001b[0;34m:\u001b[0m\u001b[0;34m\u001b[0m\u001b[0m\n\u001b[1;32m    201\u001b[0m             \u001b[0mdata\u001b[0m \u001b[0;34m=\u001b[0m \u001b[0mdata\u001b[0m\u001b[0;34m[\u001b[0m\u001b[0;34m:\u001b[0m\u001b[0;34m,\u001b[0m \u001b[0;34m:\u001b[0m\u001b[0;34m,\u001b[0m \u001b[0mnp\u001b[0m\u001b[0;34m.\u001b[0m\u001b[0mnewaxis\u001b[0m\u001b[0;34m]\u001b[0m\u001b[0;34m\u001b[0m\u001b[0m\n\u001b[0;32m--> 202\u001b[0;31m         \u001b[0mn_unit\u001b[0m\u001b[0;34m,\u001b[0m \u001b[0mn_time\u001b[0m\u001b[0;34m,\u001b[0m \u001b[0mn_cond\u001b[0m \u001b[0;34m=\u001b[0m \u001b[0mdata\u001b[0m\u001b[0;34m.\u001b[0m\u001b[0mshape\u001b[0m\u001b[0;34m\u001b[0m\u001b[0m\n\u001b[0m\u001b[1;32m    203\u001b[0m \u001b[0;34m\u001b[0m\u001b[0m\n\u001b[1;32m    204\u001b[0m         \u001b[0;31m# Units are experimental observations. Maybe subjects, or neurons\u001b[0m\u001b[0;34m\u001b[0m\u001b[0;34m\u001b[0m\u001b[0m\n",
      "\u001b[0;31mValueError\u001b[0m: not enough values to unpack (expected 3, got 0)"
     ]
    }
   ],
   "source": [
    "\n",
    "#don't need to touch this part\n",
    "\n",
    "filenames = [name for name in files if (focus in name) and ('Optimal' not in name)]\n",
    "filenames\n",
    "exps = [filenames[n][len(focus)+1:-4].lower() for n in range(len(filenames))]\n",
    "print(exps)\n",
    "\n",
    "\n",
    "tot_df = None\n",
    "for filename, exp in zip(filenames,exps):\n",
    "    file = np.load(filename)\n",
    "    if len(file) == 4:\n",
    "        file = np.array(file[2])\n",
    "    else:\n",
    "        file = np.array(file[0])\n",
    "    for n in [a for a in range(10)]:\n",
    "        \n",
    "        if focus == '2DMountainCar_3DMountainCar':\n",
    "            test = file[n,:]\n",
    "        else:\n",
    "            test = np.array(file[n])\n",
    "        cum = np.cumsum(test)\n",
    "\n",
    "        idx = np.arange(1,len(test)+1)\n",
    "        test = np.concatenate([idx.reshape(-1,1),test.reshape(-1,1),cum.reshape(-1,1)],axis=1)[:xlimit]\n",
    "\n",
    "        test_df = pd.DataFrame(test)\n",
    "        test_df.columns = ['Episode','Rewards','Cumulative Rewards']\n",
    "        test_df['Experiment Number'] = n\n",
    "        \n",
    "        if exp[-1] == '1':\n",
    "            test_df['Experiment Type'] = exp[:-1]\n",
    "            test_df['Experiment Number'] = n+10\n",
    "        else:\n",
    "            test_df['Experiment Type'] = exp\n",
    "\n",
    "        if tot_df is None:\n",
    "            tot_df = test_df\n",
    "        else:\n",
    "            tot_df = pd.concat([tot_df,test_df],axis=0)\n",
    "\n",
    "sns.tsplot(data=tot_df, ci=[68, 95], time=\"Episode\", value=value,\n",
    "                 unit=\"Experiment Number\", condition=\"Experiment Type\")\n",
    "\n",
    "plt.title(focus)\n",
    "plt.show()\n",
    "\n"
   ]
  },
  {
   "cell_type": "code",
   "execution_count": 174,
   "metadata": {
    "collapsed": false
   },
   "outputs": [
    {
     "data": {
      "text/html": [
       "<div>\n",
       "<table border=\"1\" class=\"dataframe\">\n",
       "  <thead>\n",
       "    <tr style=\"text-align: right;\">\n",
       "      <th></th>\n",
       "      <th>Episode</th>\n",
       "      <th>Rewards</th>\n",
       "      <th>Cumulative Rewards</th>\n",
       "      <th>Experiment Number</th>\n",
       "      <th>Experiment Type</th>\n",
       "    </tr>\n",
       "  </thead>\n",
       "  <tbody>\n",
       "    <tr>\n",
       "      <th>0</th>\n",
       "      <td>1.0</td>\n",
       "      <td>-1.0</td>\n",
       "      <td>-1.0</td>\n",
       "      <td>0</td>\n",
       "      <td>realistic_transferred_optimal</td>\n",
       "    </tr>\n",
       "    <tr>\n",
       "      <th>0</th>\n",
       "      <td>1.0</td>\n",
       "      <td>-1.0</td>\n",
       "      <td>-1.0</td>\n",
       "      <td>1</td>\n",
       "      <td>realistic_transferred_optimal</td>\n",
       "    </tr>\n",
       "    <tr>\n",
       "      <th>0</th>\n",
       "      <td>1.0</td>\n",
       "      <td>-1.0</td>\n",
       "      <td>-1.0</td>\n",
       "      <td>2</td>\n",
       "      <td>realistic_transferred_optimal</td>\n",
       "    </tr>\n",
       "    <tr>\n",
       "      <th>0</th>\n",
       "      <td>1.0</td>\n",
       "      <td>-1.0</td>\n",
       "      <td>-1.0</td>\n",
       "      <td>3</td>\n",
       "      <td>realistic_transferred_optimal</td>\n",
       "    </tr>\n",
       "    <tr>\n",
       "      <th>0</th>\n",
       "      <td>1.0</td>\n",
       "      <td>-1.0</td>\n",
       "      <td>-1.0</td>\n",
       "      <td>4</td>\n",
       "      <td>realistic_transferred_optimal</td>\n",
       "    </tr>\n",
       "    <tr>\n",
       "      <th>0</th>\n",
       "      <td>1.0</td>\n",
       "      <td>-1.0</td>\n",
       "      <td>-1.0</td>\n",
       "      <td>5</td>\n",
       "      <td>realistic_transferred_optimal</td>\n",
       "    </tr>\n",
       "    <tr>\n",
       "      <th>0</th>\n",
       "      <td>1.0</td>\n",
       "      <td>-1.0</td>\n",
       "      <td>-1.0</td>\n",
       "      <td>6</td>\n",
       "      <td>realistic_transferred_optimal</td>\n",
       "    </tr>\n",
       "    <tr>\n",
       "      <th>0</th>\n",
       "      <td>1.0</td>\n",
       "      <td>-1.0</td>\n",
       "      <td>-1.0</td>\n",
       "      <td>7</td>\n",
       "      <td>realistic_transferred_optimal</td>\n",
       "    </tr>\n",
       "    <tr>\n",
       "      <th>0</th>\n",
       "      <td>1.0</td>\n",
       "      <td>-1.0</td>\n",
       "      <td>-1.0</td>\n",
       "      <td>8</td>\n",
       "      <td>realistic_transferred_optimal</td>\n",
       "    </tr>\n",
       "    <tr>\n",
       "      <th>0</th>\n",
       "      <td>1.0</td>\n",
       "      <td>-1.0</td>\n",
       "      <td>-1.0</td>\n",
       "      <td>9</td>\n",
       "      <td>realistic_transferred_optimal</td>\n",
       "    </tr>\n",
       "  </tbody>\n",
       "</table>\n",
       "</div>"
      ],
      "text/plain": [
       "   Episode  Rewards  Cumulative Rewards  Experiment Number  \\\n",
       "0      1.0     -1.0                -1.0                  0   \n",
       "0      1.0     -1.0                -1.0                  1   \n",
       "0      1.0     -1.0                -1.0                  2   \n",
       "0      1.0     -1.0                -1.0                  3   \n",
       "0      1.0     -1.0                -1.0                  4   \n",
       "0      1.0     -1.0                -1.0                  5   \n",
       "0      1.0     -1.0                -1.0                  6   \n",
       "0      1.0     -1.0                -1.0                  7   \n",
       "0      1.0     -1.0                -1.0                  8   \n",
       "0      1.0     -1.0                -1.0                  9   \n",
       "\n",
       "                 Experiment Type  \n",
       "0  realistic_transferred_optimal  \n",
       "0  realistic_transferred_optimal  \n",
       "0  realistic_transferred_optimal  \n",
       "0  realistic_transferred_optimal  \n",
       "0  realistic_transferred_optimal  \n",
       "0  realistic_transferred_optimal  \n",
       "0  realistic_transferred_optimal  \n",
       "0  realistic_transferred_optimal  \n",
       "0  realistic_transferred_optimal  \n",
       "0  realistic_transferred_optimal  "
      ]
     },
     "execution_count": 174,
     "metadata": {},
     "output_type": "execute_result"
    }
   ],
   "source": [
    "tot_df[tot_df['Experiment Type'] == 'realistic_transferred_optimal']"
   ]
  },
  {
   "cell_type": "code",
   "execution_count": 176,
   "metadata": {
    "collapsed": false
   },
   "outputs": [
    {
     "data": {
      "text/plain": [
       "{'2DMountainCar_3DMountainCar_no_transfer.pkl',\n",
       " '2DMountainCar_3DMountainCar_random_Transferred_Optimal.pkl',\n",
       " '2DMountainCar_3DMountainCar_realistic_Transferred_Optimal.pkl',\n",
       " '2DMountainCar_3DMountainCar_with_transfer_random.pkl',\n",
       " '2DMountainCar_3DMountainCar_with_transfer_random_use_q.pkl',\n",
       " '2DMountainCar_3DMountainCar_with_transfer_realistic.pkl',\n",
       " '2DMountainCar_3DMountainCar_with_transfer_realistic_use_q.pkl'}"
      ]
     },
     "execution_count": 176,
     "metadata": {},
     "output_type": "execute_result"
    }
   ],
   "source": [
    "set(filenames) - {'realistic_transferred_optimal','random_transferred_optimal'}"
   ]
  },
  {
   "cell_type": "code",
   "execution_count": null,
   "metadata": {
    "collapsed": true
   },
   "outputs": [],
   "source": []
  }
 ],
 "metadata": {
  "anaconda-cloud": {},
  "kernelspec": {
   "display_name": "Python [conda root]",
   "language": "python",
   "name": "conda-root-py"
  },
  "language_info": {
   "codemirror_mode": {
    "name": "ipython",
    "version": 3
   },
   "file_extension": ".py",
   "mimetype": "text/x-python",
   "name": "python",
   "nbconvert_exporter": "python",
   "pygments_lexer": "ipython3",
   "version": "3.5.2"
  }
 },
 "nbformat": 4,
 "nbformat_minor": 1
}
