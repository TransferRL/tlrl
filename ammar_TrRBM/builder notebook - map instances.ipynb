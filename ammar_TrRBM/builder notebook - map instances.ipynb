{
 "cells": [
  {
   "cell_type": "code",
   "execution_count": 20,
   "metadata": {
    "collapsed": false,
    "scrolled": false
   },
   "outputs": [
    {
     "name": "stdout",
     "output_type": "stream",
     "text": [
      "done\n"
     ]
    }
   ],
   "source": [
    "import numpy as np\n",
    "import tensorflow as tf\n",
    "import pickle\n",
    "from sklearn.preprocessing import OneHotEncoder\n",
    "from matplotlib import pyplot as plt\n",
    "import gym\n",
    "from tqdm import tqdm\n",
    "import collections\n",
    "\n",
    "import sys\n",
    "sys.path.append('../taylor_master/lib/env/')\n",
    "from threedmountain_car import ThreeDMountainCarEnv\n",
    "\n",
    "from dqn import q_network\n",
    "import trrbm\n",
    "import utils\n",
    "\n",
    "N_MAPPED = 5000\n",
    "target_env = ThreeDMountainCarEnv()\n",
    "\n",
    "def load_samples(path):\n",
    "    with open(path, \"rb\") as f:\n",
    "        return pickle.load(f)\n",
    "    \n",
    "def unpack_samples(samples, action_encoder, fit_encoder=True):\n",
    "    \"\"\"\n",
    "    to take source and target random samples output by taylor_master/lib/instance_sampler.py \n",
    "    and format in model-ready vectors\n",
    "    \"\"\"\n",
    "    unpacked = []\n",
    "    actions = []\n",
    "    for sample in samples:\n",
    "        state = np.array(sample[0])\n",
    "        state_prime = np.array(sample[2])\n",
    "        reward = np.array(sample[3])\n",
    "        terminal = np.array(int(sample[4]))\n",
    "        \n",
    "        # need to one-hot-encode the action \n",
    "        action = [int(sample[1])]\n",
    "        \n",
    "        if action_encoder is not None:\n",
    "            unpacked.append(np.concatenate([state,state_prime]))\n",
    "            actions.append(action)\n",
    "        else:\n",
    "            unpacked.append(np.concatenate([state,state_prime,action]))\n",
    "            \n",
    "    if action_encoder is not None:\n",
    "        if fit_encoder == True:\n",
    "            action_encoder.fit(np.array(actions).reshape(-1,1))\n",
    "        actions = action_encoder.transform(np.array(actions).reshape(-1,1)).astype(float)\n",
    "        unpacked = np.concatenate([unpacked,actions],axis=1)\n",
    "    else:\n",
    "        unpacked = np.stack(unpacked)\n",
    "    return action_encoder, unpacked\n",
    "\n",
    "def unpack_episodes(episodes, action_encoder, fit_encoder=False):\n",
    "    \"\"\"\n",
    "    to take source optimal samples (list of episodes) and format in model-ready vectors\n",
    "    \"\"\"\n",
    "    samples = []\n",
    "    for episode in episodes:\n",
    "        for sample in episode:\n",
    "            samples.append(sample)\n",
    "    _, unpacked = unpack_samples(samples, action_encoder, fit_encoder=False)\n",
    "    return unpacked\n",
    "    \n",
    "def even_out_samplesizes(samples1, samples2):\n",
    "    \"\"\"\n",
    "    if there are more of source/target task samples than the other - randomly tiles the lesser\n",
    "    sample size to even out sample sizes\n",
    "    \"\"\"\n",
    "    if len(samples1) < len(samples2):\n",
    "        samples1 = np.tile(samples1,[np.math.ceil(len(samples2)/(len(samples1))),1])\n",
    "        np.random.shuffle(samples1)\n",
    "        samples1 = samples1[:len(samples2)]\n",
    "        \n",
    "    if len(samples1) > len(samples2):\n",
    "        samples2 = np.tile(samples2,[np.math.ceil(len(samples1)/(len(samples2))),1])\n",
    "        np.random.shuffle(samples2)\n",
    "        samples2 = samples2[:len(samples1)]\n",
    "        \n",
    "    return samples1, samples2\n",
    "\n",
    "\n",
    "def prepare_target_triplets(target_mapped,state_size,action_size):\n",
    "    \"\"\"\n",
    "    to separate state, action, and transition state matrixes\n",
    "    \"\"\"\n",
    "\n",
    "    target_states = target_mapped[:,:state_size]\n",
    "    target_states_prime = target_mapped[:,state_size:-action_size]\n",
    "    target_actions = target_mapped[:,-action_size:]\n",
    "    actions_greedy = np.argmax(target_actions,axis=1)\n",
    "\n",
    "    #actions_probabilities = (np.exp(-target_actions)/np.sum(np.exp(-target_actions),axis=1).reshape(-1,1))\n",
    "    #actions_sampled = np.random.multinomial(1, actions_probabilities[0], N_ACT_SAMPLES).argmax(1)\n",
    "\n",
    "    return target_states, target_states_prime, actions_greedy.reshape(-1,1)\n",
    "\n",
    "def generate_rewards(env,states,actions):\n",
    "    \"\"\"\n",
    "    runs step in actual environment to generate reward for that (s,a) tuple\n",
    "    COMMENT: this is completely unrealistic and also inaccurate; inaccurate since the reward\n",
    "    should be associated with the (s,a,s') tuple, and unrealistic b/c in real life it would (most likley)\n",
    "    be impossible to chose the state an agent is in outside bounds of moving through state space\n",
    "    one step at a time\n",
    "    \"\"\"\n",
    "    # for now just taking the actual environment as the black box function\n",
    "    assert len(states) == len(actions)\n",
    "    rewards = []\n",
    "    for state, action in zip(states,actions):\n",
    "        env.state = state\n",
    "        next_state, reward, done, info = env.step(action[0])\n",
    "        rewards.append(reward)\n",
    "    return np.array(rewards).reshape(-1,1)\n",
    "    \n",
    "    \n",
    "def main():\n",
    "    \n",
    "    source_random_path = '../taylor_master/data/2d_instances.pkl'\n",
    "    target_random_path = '../taylor_master/data/3d_instances.pkl'\n",
    "    source_optimal_path = '../taylor_master/data/optimal_instances.pkl'\n",
    "\n",
    "    # load source task random samples\n",
    "    source_action_encoder, source_random = unpack_samples(load_samples(source_random_path),OneHotEncoder(sparse=False))\n",
    "\n",
    "    # load target task random samples\n",
    "    target_action_encoder, target_random = unpack_samples(load_samples(target_random_path),OneHotEncoder(sparse=False))\n",
    "\n",
    "\n",
    "    # prepare samples\n",
    "    source_random, target_random = even_out_samplesizes(source_random, target_random)\n",
    "    source_scaler, source_random = utils.standardize_samples(source_random)\n",
    "    target_scaler, target_random = utils.standardize_samples(target_random)\n",
    "\n",
    "    # load the TrRBM model\n",
    "\n",
    "    rbm = trrbm.RBM(\n",
    "        name = \"TrRBM\",\n",
    "        v1_size = source_random.shape[1], \n",
    "        h_size = 100, \n",
    "        v2_size = target_random.shape[1], \n",
    "        n_data = source_random.shape[0], \n",
    "        batch_size = 100, \n",
    "        learning_rate = 0.000001,\n",
    "        num_epochs = 100, \n",
    "        n_factors = 40,\n",
    "        k = 1,\n",
    "        use_tqdm = True,\n",
    "        show_err_plt = True\n",
    "    )\n",
    "\n",
    "    # train the TrRBM model\n",
    "    errs = rbm.train(source_random, target_random)\n",
    "\n",
    "    if rbm.show_err_plt:\n",
    "        plt.plot(range(len(rbm.cost)), rbm.cost)\n",
    "        plt.title('TrRBM training reconstruction error')\n",
    "        plt.xlabel('epoch')\n",
    "        plt.ylabel('avg reconstruction error')\n",
    "        plt.show()\n",
    "\n",
    "    # load source task optimal instances\n",
    "    source_optimal = unpack_episodes(load_samples(source_optimal_path), source_action_encoder, fit_encoder=False)\n",
    "    source_optimal = source_scaler.transform(source_optimal)\n",
    "\n",
    "    # map to target instances\n",
    "    print('DEBUG: mapping instances over using TrRBM')\n",
    "    np.random.shuffle(source_optimal)\n",
    "    target_mapped = rbm.v2_predict(source_optimal[:N_MAPPED])\n",
    "    target_mapped = target_scaler.inverse_transform(target_mapped)\n",
    "\n",
    "    # prepare target instances (i.e. decode action; split s from s')\n",
    "    print('DEBUG: preparing target instances')\n",
    "    action_size = int(target_action_encoder.feature_indices_[-1])\n",
    "    state_size = int((target_mapped.shape[1]-target_action_encoder.feature_indices_[-1])/2)\n",
    "    target_states, target_states_prime, target_actions = prepare_target_triplets(target_mapped,state_size,action_size)\n",
    "\n",
    "    # get rewards from black-box model of reward function\n",
    "    print('DEBUG: generating black-box rewards')\n",
    "    rewards = generate_rewards(target_env,target_states,target_actions) + 1.5\n",
    "\n",
    "    # use transferred tuples to learn initial target policy \\pi_{T}^{o} (as Q network)\n",
    "\n",
    "    dqn = q_network(discount_rate = 0.9\n",
    "                 ,mem_size = 5000\n",
    "                 ,sample_size = 1000\n",
    "                 ,n_input_units = state_size\n",
    "                 ,n_output_units = action_size\n",
    "                 ,n_hidden_layers = 2\n",
    "                 ,n_hidden_units = 32\n",
    "                 ,activation = tf.nn.relu\n",
    "                 ,opt = tf.train.MomentumOptimizer\n",
    "                 ,opt_kws = {'learning_rate':0.00001,'momentum':0.2}\n",
    "                 )\n",
    "\n",
    "    dqn.initialize_graph()\n",
    "    dqn.open_session()\n",
    "    dqn.initialize_new_variables()\n",
    "\n",
    "    dqn.add_new_obvs(target_states, target_actions, target_states_prime, rewards)\n",
    "    _states, _actions, _transitions, _rewards = dqn.get_memory_sample(dqn.mem_size)\n",
    "    dqn.run_training(60, _states, _actions, _transitions, _rewards)\n",
    "    dqn.plot_loss() \n",
    "\n",
    "\n",
    "    # use initial target policy and learn as we go\n",
    "\n",
    "    N_EPISODES = 500\n",
    "    N_EPOCHS = 60\n",
    "    RETRAIN_PERIOD = 5000\n",
    "    EPSILON = 0.2\n",
    "    INI_STEPS_RETRAIN = 5000\n",
    "\n",
    "    pbar = tqdm(range(N_EPISODES))\n",
    "    episode_counter = collections.Counter()\n",
    "    steps_counter = collections.Counter()\n",
    "    instances = []\n",
    "    for episode in pbar:\n",
    "        target_env.reset()\n",
    "        done = False\n",
    "        while done == False:\n",
    "            steps_counter['steps'] += 1\n",
    "            episode_counter[episode] += 1\n",
    "            state = np.array(target_env.state).reshape(1,-1)\n",
    "            # epsilon-greedily take next action from network\n",
    "            if np.random.random_sample() > EPSILON:\n",
    "                action = dqn.get_next_action(state)[0]\n",
    "            else:\n",
    "                action = target_env.action_space.sample()\n",
    "            next_state, reward, done, _ = target_env.step(action)\n",
    "\n",
    "            dqn.add_new_obvs(state.reshape(1,-1),np.array([action]).reshape(1,-1),next_state.reshape(1,-1),np.array(reward).reshape(1,-1))\n",
    "            if steps_counter['steps'] == INI_STEPS_RETRAIN or (steps_counter['steps'] > INI_STEPS_RETRAIN and steps_counter['steps'] % RETRAIN_PERIOD == 0):\n",
    "                print(steps_counter['steps'])\n",
    "                break\n",
    "\n",
    "                _states, _actions, _transitions, _rewards = dqn.get_memory_sample(dqn.mem_size)\n",
    "                dqn.run_training(N_EPOCHS, _states, _actions, _transitions, _rewards)\n",
    "            instances.append([state,action,next_state,reward,done])\n",
    "            target_env.render()\n",
    "\n",
    "        if len(episode_counter) > 20 and np.all(np.array(list(episode_counter)[-20:]) <= 1000) == True:\n",
    "            break\n",
    "\n",
    "\n",
    "\n",
    "    target_env.close()    \n",
    "    print('training complete!!!')\n",
    "\n",
    "    \n",
    "    return instances, episode_counter\n",
    "    \n",
    "if __name__ == '__main__':\n",
    "    #instances, episode_counter =  main()\n",
    "    print('done')"
   ]
  },
  {
   "cell_type": "code",
   "execution_count": 21,
   "metadata": {
    "collapsed": false,
    "scrolled": true
   },
   "outputs": [
    {
     "name": "stderr",
     "output_type": "stream",
     "text": [
      "squared reconstruction average batch error: 203.823428125: 100%|██████████| 1/1 [00:01<00:00,  1.14s/it]\n"
     ]
    },
    {
     "data": {
      "image/png": "[encoded data removed]",
      "text/plain": [
       "<matplotlib.figure.Figure at 0x119580d30>"
      ]
     },
     "metadata": {},
     "output_type": "display_data"
    },
    {
     "name": "stdout",
     "output_type": "stream",
     "text": [
      "DEBUG: mapping instances over using TrRBM\n",
      "DEBUG: preparing target instances\n",
      "DEBUG: generating black-box rewards\n"
     ]
    }
   ],
   "source": [
    "source_random_path = '../taylor_master/data/2d_instances.pkl'\n",
    "target_random_path = '../taylor_master/data/3d_instances.pkl'\n",
    "source_optimal_path = '../taylor_master/data/optimal_instances.pkl'\n",
    "\n",
    "# load source task random samples\n",
    "source_action_encoder, source_random = unpack_samples(load_samples(source_random_path),OneHotEncoder(sparse=False))\n",
    "\n",
    "# load target task random samples\n",
    "target_action_encoder, target_random = unpack_samples(load_samples(target_random_path),OneHotEncoder(sparse=False))\n",
    "\n",
    "\n",
    "# prepare samples\n",
    "source_random, target_random = even_out_samplesizes(source_random, target_random)\n",
    "source_scaler, source_random = utils.standardize_samples(source_random)\n",
    "target_scaler, target_random = utils.standardize_samples(target_random)\n",
    "\n",
    "# load the TrRBM model\n",
    "\n",
    "rbm = trrbm.RBM(\n",
    "    name = \"TrRBM\",\n",
    "    v1_size = source_random.shape[1], \n",
    "    h_size = 100, \n",
    "    v2_size = target_random.shape[1], \n",
    "    n_data = source_random.shape[0], \n",
    "    batch_size = 100, \n",
    "    learning_rate = 0.000001,\n",
    "    num_epochs = 1, \n",
    "    n_factors = 40,\n",
    "    k = 1,\n",
    "    use_tqdm = True,\n",
    "    show_err_plt = True\n",
    ")\n",
    "\n",
    "# train the TrRBM \\model\n",
    "errs = rbm.train(source_random, target_random)\n",
    "\n",
    "if rbm.show_err_plt:\n",
    "    plt.plot(range(len(rbm.cost)), rbm.cost)\n",
    "    plt.title('TrRBM training reconstruction error')\n",
    "    plt.xlabel('epoch')\n",
    "    plt.ylabel('avg reconstruction error')\n",
    "    plt.show()\n",
    "\n",
    "# load source task optimal instances\n",
    "source_optimal = unpack_episodes(load_samples(source_optimal_path), source_action_encoder, fit_encoder=False)\n",
    "source_optimal = source_scaler.transform(source_optimal)\n",
    "\n",
    "# map to target instances\n",
    "print('DEBUG: mapping instances over using TrRBM')\n",
    "np.random.shuffle(source_optimal)\n",
    "target_mapped = rbm.v2_predict(source_optimal[:N_MAPPED])\n",
    "target_mapped = target_scaler.inverse_transform(target_mapped)\n",
    "\n",
    "# prepare target instances (i.e. decode action; split s from s')\n",
    "print('DEBUG: preparing target instances')\n",
    "action_size = int(target_action_encoder.feature_indices_[-1])\n",
    "state_size = int((target_mapped.shape[1]-target_action_encoder.feature_indices_[-1])/2)\n",
    "target_states, target_states_prime, target_actions = prepare_target_triplets(target_mapped,state_size,action_size)\n",
    "\n",
    "# get rewards from black-box model of reward function\n",
    "print('DEBUG: generating black-box rewards')\n",
    "rewards = generate_rewards(target_env,target_states,target_actions) + 1.5\n",
    "\n"
   ]
  },
  {
   "cell_type": "code",
   "execution_count": 22,
   "metadata": {
    "collapsed": false,
    "scrolled": true
   },
   "outputs": [
    {
     "name": "stderr",
     "output_type": "stream",
     "text": [
      "loss: 3068.55859375: 100%|██████████| 8/8 [00:02<00:00,  3.05it/s]    \n"
     ]
    },
    {
     "data": {
      "image/png": "[encoded data removed]",
      "text/plain": [
       "<matplotlib.figure.Figure at 0x123b5d278>"
      ]
     },
     "metadata": {},
     "output_type": "display_data"
    }
   ],
   "source": [
    "# use transferred tuples to learn initial target policy \\pi_{T}^{o} (as Q network)\n",
    "\n",
    "dqn = q_network(discount_rate = 0.9\n",
    "             ,mem_size = 5000\n",
    "             ,sample_size = 1000\n",
    "             ,n_input_units = state_size\n",
    "             ,n_output_units = action_size\n",
    "             ,n_hidden_layers = 2\n",
    "             ,n_hidden_units = 32\n",
    "             ,activation = tf.nn.relu\n",
    "             ,opt = tf.train.MomentumOptimizer\n",
    "             ,opt_kws = {'learning_rate':0.00001,'momentum':0.2}\n",
    "             )\n",
    "\n",
    "dqn.initialize_graph()\n",
    "dqn.open_session()\n",
    "dqn.initialize_new_variables()\n",
    "\n",
    "dqn.add_new_obvs(target_states, target_actions, target_states_prime, rewards)\n",
    "_states, _actions, _transitions, _rewards = dqn.get_memory_sample(dqn.mem_size)\n",
    "dqn.run_training(8, _states, _actions, _transitions, _rewards)\n",
    "dqn.plot_loss() "
   ]
  },
  {
   "cell_type": "code",
   "execution_count": 23,
   "metadata": {
    "collapsed": false,
    "scrolled": true
   },
   "outputs": [
    {
     "name": "stderr",
     "output_type": "stream",
     "text": [
      "  2%|▏         | 8/500 [00:00<04:49,  1.70it/s]"
     ]
    },
    {
     "name": "stdout",
     "output_type": "stream",
     "text": [
      "episode 1 completed\n",
      "episode 2 completed\n",
      "episode 3 completed\n",
      "episode 4 completed\n",
      "episode 5 completed\n",
      "episode 6 completed\n",
      "episode 7 completed\n",
      "episode 8 completed\n",
      "episode 9 completed\n",
      "episode 10 completed\n",
      "episode 11 completed\n",
      "episode 12 completed\n",
      "episode 13 completed\n"
     ]
    },
    {
     "name": "stderr",
     "output_type": "stream",
     "text": [
      "  4%|▍         | 19/500 [00:01<02:25,  3.30it/s]"
     ]
    },
    {
     "name": "stdout",
     "output_type": "stream",
     "text": [
      "episode 14 completed\n",
      "episode 15 completed\n",
      "episode 16 completed\n",
      "episode 17 completed\n",
      "episode 18 completed\n",
      "episode 19 completed\n",
      "episode 20 completed\n",
      "episode 21 completed\n",
      "training complete!!!\n"
     ]
    }
   ],
   "source": [
    "    # use initial target policy and learn as we go\n",
    "\n",
    "    N_EPISODES = 500\n",
    "    N_EPOCHS = 80\n",
    "    RETRAIN_PERIOD = 5000\n",
    "    EPSILON = 0.5\n",
    "    EPSILON_DECAY = 0.9999\n",
    "    INI_STEPS_RETRAIN = 1000\n",
    "\n",
    "    pbar = tqdm(range(N_EPISODES))\n",
    "    episode_counter = collections.Counter()\n",
    "    steps_counter = collections.Counter()\n",
    "    instances = []\n",
    "    rewards = []\n",
    "    for episode in pbar:\n",
    "        target_env.reset()\n",
    "        done = False\n",
    "        while True:\n",
    "            steps_counter['steps'] += 1\n",
    "            episode_counter[episode] += 1\n",
    "            state = np.array(target_env.state).reshape(1,-1)\n",
    "            # epsilon-greedily take next action from network\n",
    "            if np.random.random_sample() > EPSILON:\n",
    "                action = dqn.get_next_action(state)[0]\n",
    "            else:\n",
    "                action = target_env.action_space.sample()\n",
    "            next_state, reward, done, _ = target_env.step(action)\n",
    "\n",
    "            dqn.add_new_obvs(state.reshape(1,-1),np.array([action]).reshape(1,-1),next_state.reshape(1,-1),np.array(reward).reshape(1,-1))\n",
    "            if steps_counter['steps'] == INI_STEPS_RETRAIN or (steps_counter['steps'] > INI_STEPS_RETRAIN and steps_counter['steps'] % RETRAIN_PERIOD == 0):\n",
    "                print(steps_counter['steps'])\n",
    "                _states, _actions, _transitions, _rewards = dqn.get_memory_sample(dqn.mem_size)\n",
    "                dqn.run_training(N_EPOCHS, _states, _actions, _transitions, _rewards)\n",
    "            #instances.append([state,action,next_state,reward,done])\n",
    "            rewards.append(reward)\n",
    "            target_env.render_orthographic()\n",
    "            \n",
    "            EPSILON = EPSILON_DECAY*EPSILON\n",
    "            \n",
    "            if done == False:\n",
    "                print('episode {} completed'.format(len(episode_counter)))\n",
    "                break\n",
    "\n",
    "        if len(episode_counter) > 20 and np.all(np.array(list(episode_counter)[-20:]) <= 1000) == True:\n",
    "            break\n",
    "\n",
    "\n",
    "\n",
    "    target_env.close()    \n",
    "    print('training complete!!!')"
   ]
  },
  {
   "cell_type": "code",
   "execution_count": 41,
   "metadata": {
    "collapsed": false
   },
   "outputs": [],
   "source": [
    "import pickle\n",
    "\n",
    "output = {'description':'this is a description of the experiment'\n",
    "          ,'rewards':rewards\n",
    "          ,'episode_counter':episode_counter\n",
    "          ,'episode_total_reward':episode_total_reward\n",
    "          ,'params':{}}\n",
    "    \n",
    "file = 'TrRBM_exp_{}.p'.format(datetime.datetime.now().strftime('%Y-%m-%d %H:%M:%S'))\n",
    "with open(file, 'wb') as f:\n",
    "    pickle.dump(output,f)"
   ]
  },
  {
   "cell_type": "code",
   "execution_count": 43,
   "metadata": {
    "collapsed": false
   },
   "outputs": [],
   "source": [
    "with open(file,'rb') as f:\n",
    "    a = pickle.load(f)"
   ]
  },
  {
   "cell_type": "code",
   "execution_count": 8,
   "metadata": {
    "collapsed": false
   },
   "outputs": [
    {
     "data": {
      "text/plain": [
       "0.6065154956247782"
      ]
     },
     "execution_count": 8,
     "metadata": {},
     "output_type": "execute_result"
    }
   ],
   "source": [
    ".9999**5000"
   ]
  },
  {
   "cell_type": "code",
   "execution_count": null,
   "metadata": {
    "collapsed": true
   },
   "outputs": [],
   "source": [
    "steps_counter = collections.Counter()"
   ]
  },
  {
   "cell_type": "code",
   "execution_count": null,
   "metadata": {
    "collapsed": false
   },
   "outputs": [],
   "source": [
    "steps_counter['steps']"
   ]
  },
  {
   "cell_type": "code",
   "execution_count": null,
   "metadata": {
    "collapsed": true
   },
   "outputs": [],
   "source": [
    "d = collections.deque(['a','b','c'])"
   ]
  },
  {
   "cell_type": "code",
   "execution_count": 25,
   "metadata": {
    "collapsed": false
   },
   "outputs": [
    {
     "data": {
      "text/plain": [
       "array(Counter({0: 1001}), dtype=object)"
      ]
     },
     "execution_count": 25,
     "metadata": {},
     "output_type": "execute_result"
    }
   ],
   "source": [
    "np.array(episode_counter)"
   ]
  },
  {
   "cell_type": "code",
   "execution_count": null,
   "metadata": {
    "collapsed": false
   },
   "outputs": [],
   "source": [
    "state,action,next_state,reward"
   ]
  },
  {
   "cell_type": "code",
   "execution_count": null,
   "metadata": {
    "collapsed": false
   },
   "outputs": [],
   "source": [
    "state.shape"
   ]
  },
  {
   "cell_type": "code",
   "execution_count": null,
   "metadata": {
    "collapsed": false
   },
   "outputs": [],
   "source": [
    "np.array([[reward]]).T[0]"
   ]
  },
  {
   "cell_type": "code",
   "execution_count": null,
   "metadata": {
    "collapsed": false
   },
   "outputs": [],
   "source": [
    "rewards.T[0]"
   ]
  },
  {
   "cell_type": "code",
   "execution_count": null,
   "metadata": {
    "collapsed": false
   },
   "outputs": [],
   "source": [
    "_states.shape"
   ]
  },
  {
   "cell_type": "code",
   "execution_count": null,
   "metadata": {
    "collapsed": false
   },
   "outputs": [],
   "source": [
    "np.array(np.array(state))"
   ]
  },
  {
   "cell_type": "code",
   "execution_count": null,
   "metadata": {
    "collapsed": false
   },
   "outputs": [],
   "source": [
    "d = collections.deque([1,2,3])"
   ]
  },
  {
   "cell_type": "code",
   "execution_count": null,
   "metadata": {
    "collapsed": false
   },
   "outputs": [],
   "source": [
    "len(d)"
   ]
  },
  {
   "cell_type": "code",
   "execution_count": 15,
   "metadata": {
    "collapsed": false
   },
   "outputs": [
    {
     "data": {
      "text/plain": [
       "array([array([1]), array([3]), array([2]), array([1]), array([0]),\n",
       "       array([2]), array([2]), array([4]), array([0]), array([0]),\n",
       "       array([4]), array([3]), array([2]), array([3]), array([4]),\n",
       "       array([4]), array([0]), array([4]), array([3]), array([1]),\n",
       "       array([2]), array([3]), array([4]), array([4]), array([3]),\n",
       "       array([4]), array([2]), array([0]), array([0]), array([4]),\n",
       "       array([0]), array([0]), array([0]), array([1]), array([4]),\n",
       "       array([2]), array([4]), array([2]), array([0]), array([1]),\n",
       "       array([3]), array([1]), array([4]), array([4]), array([0]),\n",
       "       array([4]), array([0]), array([4]), array([0]), array([2]),\n",
       "       array([1]), array([1]), array([4]), array([3]), array([3]),\n",
       "       array([1]), array([0]), array([1]), array([2]), array([1]),\n",
       "       array([0]), array([1]), array([1]), array([1]), array([3]),\n",
       "       array([0]), array([4]), array([3]), array([2]), array([3]),\n",
       "       array([3]), array([1]), array([0]), array([0]), array([2]),\n",
       "       array([1]), array([0]), array([4]), array([4]), array([1]),\n",
       "       array([0]), array([4]), array([3]), array([4]), array([4]),\n",
       "       array([1]), array([2]), array([1]), array([0]), 1, array([0]),\n",
       "       array([2]), array([3]), array([0]), array([0]), array([2]),\n",
       "       array([1]), array([1]), array([2]), array([1]), array([4]),\n",
       "       array([0]), array([1]), array([1]), array([4]), array([4]),\n",
       "       array([3]), array([0]), array([1]), array([3]), array([1]), 1,\n",
       "       array([3]), array([0]), array([1]), array([0]), array([3]),\n",
       "       array([2]), array([4]), array([1]), array([1]), array([4]),\n",
       "       array([1]), array([1]), array([0]), array([1]), array([4]),\n",
       "       array([1]), array([0]), array([4]), array([0]), array([1]),\n",
       "       array([0]), array([0]), 3, array([1]), array([1]), array([2]),\n",
       "       array([2]), array([1]), array([0]), array([4]), array([4]),\n",
       "       array([4]), array([0]), array([2]), array([4]), array([4]),\n",
       "       array([2]), array([4]), array([0]), array([2]), array([0]),\n",
       "       array([0]), array([4]), array([1]), array([3]), array([0]),\n",
       "       array([4]), array([4]), array([1]), array([0]), array([1]),\n",
       "       array([0]), array([2]), array([4]), array([4]), array([4]),\n",
       "       array([4]), array([2]), array([0]), array([2]), array([4]),\n",
       "       array([2]), array([2]), array([0]), array([0]), array([2]),\n",
       "       array([0]), array([2]), array([0]), array([4]), array([3]),\n",
       "       array([3]), array([0]), array([0]), array([0]), array([2]),\n",
       "       array([3]), array([3]), array([4]), 3, array([4]), array([3]),\n",
       "       array([0]), array([2]), array([1]), array([1]), array([2]),\n",
       "       array([1]), 1, array([4]), array([2]), array([2]), array([2]),\n",
       "       array([2]), array([0]), array([0]), array([4]), array([0]),\n",
       "       array([4]), array([0]), array([4]), array([4]), array([0]),\n",
       "       array([4]), array([1]), array([1]), array([0]), array([1]),\n",
       "       array([0]), array([4]), array([1]), array([3]), array([0]),\n",
       "       array([4]), array([1]), array([0]), array([3]), array([0]),\n",
       "       array([3]), array([1]), array([0]), array([3]), array([0]),\n",
       "       array([1]), array([4]), array([1]), array([4]), array([2]),\n",
       "       array([0]), array([4]), array([0]), array([4]), array([4]),\n",
       "       array([2]), array([0]), array([4]), array([1]), array([4]),\n",
       "       array([2]), array([3]), array([1]), array([2]), array([1]),\n",
       "       array([4]), 1, array([0]), array([2]), array([4]), array([0]),\n",
       "       array([4]), array([1]), array([1]), array([4]), array([0]),\n",
       "       array([3]), array([3]), array([1]), array([1]), array([4]),\n",
       "       array([3]), array([1]), array([2]), array([2]), array([3]),\n",
       "       array([4]), array([2]), 1, array([3]), array([2]), array([0]),\n",
       "       array([4]), array([2]), array([2]), array([0]), 1, array([2]),\n",
       "       array([0]), array([0]), array([0]), array([1]), 3, array([4]),\n",
       "       array([3]), array([1]), array([2]), array([3]), array([0]),\n",
       "       array([4]), array([3]), array([0]), 1, array([4]), array([1]),\n",
       "       array([4]), array([4]), array([2]), array([0]), array([1]),\n",
       "       array([4]), array([4]), array([3]), array([3]), array([0]),\n",
       "       array([0]), array([0]), array([0]), array([2]), array([3]),\n",
       "       array([3]), array([1]), array([2]), array([1]), array([0]),\n",
       "       array([1]), array([0]), array([2]), array([2]), array([3]),\n",
       "       array([3]), array([4]), array([0]), array([0]), array([3]),\n",
       "       array([0]), array([2]), array([0]), array([4]), array([2]),\n",
       "       array([0]), array([0]), array([4]), array([2]), array([1]),\n",
       "       array([4]), array([0]), array([4]), array([0]), array([0]),\n",
       "       array([1]), array([0]), array([0]), array([1]), array([4]),\n",
       "       array([0]), array([0]), array([0]), array([4]), array([3]),\n",
       "       array([1]), array([4]), array([4]), array([3]), array([4]),\n",
       "       array([0]), array([2]), array([1]), array([3]), 1, array([3]),\n",
       "       array([4]), array([2]), array([1]), array([2]), array([2]),\n",
       "       array([0]), array([0]), array([0]), array([0]), array([3]),\n",
       "       array([3]), array([4]), array([3]), array([3]), array([1]),\n",
       "       array([0]), array([4]), array([4]), array([1]), array([3]),\n",
       "       array([0]), array([0]), array([3]), array([3]), array([1]), 1,\n",
       "       array([0]), array([4]), array([3]), array([4]), array([0]),\n",
       "       array([3]), array([0]), array([4]), array([0]), array([4]),\n",
       "       array([0]), array([0]), array([4]), array([3]), array([2]),\n",
       "       array([4]), array([0]), array([1]), array([0]), array([4]),\n",
       "       array([4]), array([2]), 4, array([2]), array([2]), array([4]),\n",
       "       array([0]), array([3]), array([3]), array([0]), array([2]),\n",
       "       array([4]), array([4]), array([4]), array([1]), array([4]),\n",
       "       array([1]), array([2]), array([4]), array([4]), array([2]),\n",
       "       array([0]), array([0]), array([1]), array([2]), array([4]), 2,\n",
       "       array([1]), array([4]), array([2]), array([3]), array([3]),\n",
       "       array([0]), array([2]), array([0]), array([4]), array([0]),\n",
       "       array([4]), array([0]), array([3]), array([2]), array([3]),\n",
       "       array([1]), array([1]), array([2]), array([3]), array([4]),\n",
       "       array([3]), array([1]), array([2]), array([2]), array([3]),\n",
       "       array([4]), array([3]), array([3]), array([0]), array([1]),\n",
       "       array([4]), array([4]), array([4]), array([0]), array([0]),\n",
       "       array([2]), array([3]), array([1]), array([4]), array([3]),\n",
       "       array([1]), array([4]), array([0]), array([0]), array([0]),\n",
       "       array([2]), array([4]), array([0]), array([0]), array([0]),\n",
       "       array([4]), array([0]), array([0]), array([4]), array([4]),\n",
       "       array([1]), array([4]), array([0]), array([4]), array([0]),\n",
       "       array([2]), array([0]), array([2]), array([3]), array([0]),\n",
       "       array([0]), array([4]), array([3]), array([3]), array([2]),\n",
       "       array([0]), array([4]), array([4]), array([3]), array([4]),\n",
       "       array([1]), array([4]), array([2]), array([1]), array([4]),\n",
       "       array([4]), array([4]), array([3]), array([0]), array([1]),\n",
       "       array([3]), array([4]), array([4]), array([1]), array([0]),\n",
       "       array([4]), array([2]), array([3]), array([4]), array([4]),\n",
       "       array([4]), array([3]), array([1]), array([4]), array([4]),\n",
       "       array([0]), array([3]), array([0]), array([3]), array([4]),\n",
       "       array([0]), array([0]), array([4]), array([3]), array([3]),\n",
       "       array([4]), array([0]), array([0]), array([1]), array([4]), 1,\n",
       "       array([1]), array([0]), array([0]), array([2]), array([0]),\n",
       "       array([4]), array([3]), array([0]), array([2]), array([2]),\n",
       "       array([3]), array([4]), array([3]), array([2]), array([2]),\n",
       "       array([2]), array([4]), array([4]), array([2]), array([2]),\n",
       "       array([0]), array([0]), array([2]), array([3]), array([3]),\n",
       "       array([0]), array([0]), array([1]), array([4]), array([0]),\n",
       "       array([1]), array([2]), array([1]), array([4]), array([1]),\n",
       "       array([2]), array([0]), array([3]), array([4]), array([4]),\n",
       "       array([1]), array([3]), array([2]), array([1]), array([0]),\n",
       "       array([1]), array([1]), array([2]), array([3]), array([3]), 1, 1, 1,\n",
       "       array([0]), array([1]), array([1]), array([0]), array([4]),\n",
       "       array([0]), array([4]), array([2]), array([3]), array([3]),\n",
       "       array([0]), array([3]), array([0]), array([3]), array([4]),\n",
       "       array([0]), array([4]), array([0]), array([2]), array([4]),\n",
       "       array([3]), array([4]), 1, array([4]), array([4]), array([2]),\n",
       "       array([4]), array([3]), array([0]), array([2]), array([1]),\n",
       "       array([2]), array([2]), array([3]), array([1]), array([2]),\n",
       "       array([1]), array([0]), array([0]), array([1]), array([0]),\n",
       "       array([0]), 1, array([2]), array([4]), array([1]), array([0]),\n",
       "       array([4]), array([4]), array([1]), array([0]), array([1]),\n",
       "       array([1]), array([2]), array([1]), array([3]), array([4]),\n",
       "       array([2]), array([3]), array([1]), array([3]), array([4]),\n",
       "       array([1]), array([2]), array([3]), array([4]), array([0]),\n",
       "       array([0]), array([4]), array([1]), 1, array([2]), array([4]),\n",
       "       array([0]), array([1]), array([0]), array([3]), array([0]),\n",
       "       array([4]), array([3]), array([3]), array([1]), array([1]), 1,\n",
       "       array([3]), array([2]), array([0]), array([0]), array([1]),\n",
       "       array([0]), array([0]), array([3]), array([0]), array([2]),\n",
       "       array([0]), array([4]), array([2]), array([0]), array([1]),\n",
       "       array([3]), array([0]), array([0]), array([0]), array([0]),\n",
       "       array([4]), array([4]), array([4]), array([0]), array([0]),\n",
       "       array([0]), array([1]), array([0]), array([4]), array([3]),\n",
       "       array([2]), array([3]), array([4]), array([2]), array([1]),\n",
       "       array([2]), array([3]), array([2]), array([0]), array([0]),\n",
       "       array([3]), array([4]), array([0]), array([1]), array([3]),\n",
       "       array([0]), array([0]), array([1]), array([0]), array([2]),\n",
       "       array([0]), array([2]), array([0]), array([3]), array([2]),\n",
       "       array([4]), array([3]), array([4]), array([3]), array([3]),\n",
       "       array([0]), array([4]), array([0]), array([0]), array([1]),\n",
       "       array([3]), array([2]), array([2]), array([4]), array([3]), 1,\n",
       "       array([4]), array([1]), array([1]), array([1]), array([1]),\n",
       "       array([3]), array([3]), array([4]), array([3]), array([3]),\n",
       "       array([4]), array([4]), array([1]), array([1]), array([2]),\n",
       "       array([3]), array([0]), array([0]), array([1]), array([2]),\n",
       "       array([4]), array([1]), array([0]), array([1]), array([0]),\n",
       "       array([2]), array([4]), array([0]), array([0]), array([2]),\n",
       "       array([4]), array([0]), array([2]), array([0]), array([4]),\n",
       "       array([4]), array([0]), 1, array([3]), array([1]), array([4]),\n",
       "       array([4]), array([1]), array([4]), array([4]), array([0]),\n",
       "       array([3]), array([4]), array([3]), array([2]), array([0]),\n",
       "       array([4]), array([1]), array([1]), array([3]), array([0]),\n",
       "       array([1]), array([4]), array([4]), array([4]), array([0]),\n",
       "       array([4]), array([4]), array([0]), array([3]), array([0]),\n",
       "       array([1]), array([0]), array([3]), array([3]), array([1]),\n",
       "       array([0]), array([2]), array([0]), array([0]), array([3]),\n",
       "       array([4]), array([3]), array([1]), array([2]), array([4]),\n",
       "       array([4]), array([0]), 1, array([2]), array([3]), array([2]),\n",
       "       array([3]), array([3]), array([0]), array([0]), array([2]),\n",
       "       array([0]), array([4]), array([3]), 1, array([3]), array([4]),\n",
       "       array([4]), array([0]), array([0]), array([0]), array([3]),\n",
       "       array([4]), array([1]), array([4]), array([0]), array([3]),\n",
       "       array([0]), array([1]), array([2]), array([3]), array([0]),\n",
       "       array([0]), array([0]), array([4]), array([0]), array([0]),\n",
       "       array([0]), array([1]), array([4]), array([4]), array([0]),\n",
       "       array([3]), 1, array([4]), array([4]), array([4]), array([4]),\n",
       "       array([0]), array([3]), array([3]), array([2]), array([4]),\n",
       "       array([0]), array([0]), array([1]), array([2]), 1, array([4]),\n",
       "       array([0]), array([0]), array([2]), array([4]), array([0]), 1,\n",
       "       array([3]), array([0]), array([4]), array([3]), array([1]),\n",
       "       array([4]), array([3]), array([0]), array([0]), array([3]),\n",
       "       array([0]), array([1]), array([3]), array([0]), array([0]),\n",
       "       array([1]), array([0]), array([0]), array([0]), array([4]),\n",
       "       array([1]), array([2]), array([4]), array([1]), array([3]),\n",
       "       array([1]), array([0]), array([3]), array([4]), array([0]),\n",
       "       array([0]), array([4]), array([0]), array([4]), array([2]),\n",
       "       array([1]), array([3]), array([0]), array([4]), array([1]), 1,\n",
       "       array([2]), array([4]), array([0]), array([0]), array([0]),\n",
       "       array([2]), array([1]), array([4]), array([4]), array([0]),\n",
       "       array([4]), array([0]), array([4]), array([3]), array([0]),\n",
       "       array([2]), 1, array([3]), array([1]), array([0]), array([0]),\n",
       "       array([4]), array([2]), array([4]), array([2]), array([0]),\n",
       "       array([4]), array([2]), array([1]), 1, array([0]), array([1]),\n",
       "       array([3]), array([4]), array([2]), array([4]), array([0]),\n",
       "       array([3]), array([1]), array([2]), array([1]), array([2]),\n",
       "       array([4]), array([3]), array([4])], dtype=object)"
      ]
     },
     "execution_count": 15,
     "metadata": {},
     "output_type": "execute_result"
    }
   ],
   "source": [
    "_actions[:1000]"
   ]
  },
  {
   "cell_type": "code",
   "execution_count": null,
   "metadata": {
    "collapsed": false
   },
   "outputs": [],
   "source": [
    "target_states.shape"
   ]
  },
  {
   "cell_type": "code",
   "execution_count": null,
   "metadata": {
    "collapsed": false
   },
   "outputs": [],
   "source": [
    "target_states, target_actions, target_states_prime, rewards"
   ]
  },
  {
   "cell_type": "code",
   "execution_count": 16,
   "metadata": {
    "collapsed": false
   },
   "outputs": [],
   "source": [
    "import collections\n",
    "\n",
    "d = collections.Counter([1,2,3])"
   ]
  },
  {
   "cell_type": "code",
   "execution_count": 27,
   "metadata": {
    "collapsed": false
   },
   "outputs": [
    {
     "data": {
      "text/plain": [
       "True"
      ]
     },
     "execution_count": 27,
     "metadata": {},
     "output_type": "execute_result"
    }
   ],
   "source": [
    "np.all(np.array([1,2,3]) < 4)"
   ]
  },
  {
   "cell_type": "code",
   "execution_count": 18,
   "metadata": {
    "collapsed": false
   },
   "outputs": [
    {
     "data": {
      "text/plain": [
       "[1, 2, 3]"
      ]
     },
     "execution_count": 18,
     "metadata": {},
     "output_type": "execute_result"
    }
   ],
   "source": [
    "list(d.keys())"
   ]
  },
  {
   "cell_type": "code",
   "execution_count": 10,
   "metadata": {
    "collapsed": false
   },
   "outputs": [],
   "source": [
    "import tensorflow as tf\n",
    "\n",
    "a = tf.Variable([1.0,2.0,3.0])"
   ]
  },
  {
   "cell_type": "code",
   "execution_count": 11,
   "metadata": {
    "collapsed": true
   },
   "outputs": [],
   "source": [
    "\n",
    "b = tf.Variable([0.0,0.0,0.0])"
   ]
  },
  {
   "cell_type": "code",
   "execution_count": null,
   "metadata": {
    "collapsed": true
   },
   "outputs": [],
   "source": [
    "saver = tf.train.Saver()"
   ]
  }
 ],
 "metadata": {
  "anaconda-cloud": {},
  "kernelspec": {
   "display_name": "Python [conda root]",
   "language": "python",
   "name": "conda-root-py"
  },
  "language_info": {
   "codemirror_mode": {
    "name": "ipython",
    "version": 3
   },
   "file_extension": ".py",
   "mimetype": "text/x-python",
   "name": "python",
   "nbconvert_exporter": "python",
   "pygments_lexer": "ipython3",
   "version": "3.5.2"
  }
 },
 "nbformat": 4,
 "nbformat_minor": 1
}
