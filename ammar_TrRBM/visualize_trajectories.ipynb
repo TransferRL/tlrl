{
 "cells": [
  {
   "cell_type": "code",
   "execution_count": 1,
   "metadata": {
    "collapsed": false
   },
   "outputs": [],
   "source": [
    "import numpy as np\n",
    "import sys\n",
    "sys.path.append('/Users/dangoldberg/Desktop/code/tlrl')\n",
    "sys.path.append('/Users/dangoldberg/Desktop/code/tlrl/lib')"
   ]
  },
  {
   "cell_type": "code",
   "execution_count": 2,
   "metadata": {
    "collapsed": false
   },
   "outputs": [],
   "source": [
    "from TrRBM_train_models import *"
   ]
  },
  {
   "cell_type": "code",
   "execution_count": 3,
   "metadata": {
    "collapsed": false
   },
   "outputs": [],
   "source": [
    "def train_transfer_mapping(source_env_str, target_env_str, option_str='random'):\n",
    "\n",
    "    source_random_path = ENVS_PATH_DICTIONARY[source_env_str]['instances_path'] + option_str + '_instances.pkl'\n",
    "    target_random_path = ENVS_PATH_DICTIONARY[target_env_str]['instances_path'] + option_str + '_instances.pkl'\n",
    "    source_optimal_path = ENVS_PATH_DICTIONARY[source_env_str]['instances_path'] + 'optimal_instances.pkl'\n",
    "\n",
    "    target_env = ENVS_PATH_DICTIONARY[target_env_str]['env']\n",
    "    # load source task random samples\n",
    "    source_action_encoder, source_random = unpack_samples(load_samples(source_random_path), OneHotEncoder(sparse=False))\n",
    "\n",
    "    # load target task random samples\n",
    "    target_action_encoder, target_random = unpack_samples(load_samples(target_random_path), OneHotEncoder(sparse=False))\n",
    "\n",
    "    # prepare samples\n",
    "    source_random, target_random = even_out_samplesizes(source_random, target_random)\n",
    "    source_scaler, source_random = utils.standardize_samples(source_random)\n",
    "    target_scaler, target_random = utils.standardize_samples(target_random)\n",
    "\n",
    "    # load the TrRBM model\n",
    "\n",
    "    rbm = trrbm.RBM(\n",
    "        name=\"TrRBM\",\n",
    "        v1_size=source_random.shape[1],\n",
    "        h_size=params_dictionary[\"TrRBM_hidden_units\"],\n",
    "        v2_size=target_random.shape[1],\n",
    "        n_data=source_random.shape[0],\n",
    "        batch_size=params_dictionary[\"TrRBM_batch_size\"],\n",
    "        learning_rate=params_dictionary[\"TrRBM_learning_rate\"],\n",
    "        num_epochs=params_dictionary[\"TrRBM_num_epochs\"],\n",
    "        n_factors=params_dictionary[\"TrRBM_n_factors\"],\n",
    "        k=params_dictionary[\"TrRBM_k\"],\n",
    "        use_tqdm=params_dictionary[\"TrRBM_use_tqdm\"],\n",
    "        show_err_plt=params_dictionary[\"TrRBM_show_err_plt\"]\n",
    "    )\n",
    "\n",
    "    # train the TrRBM model\n",
    "    errs = rbm.train(source_random, target_random)\n",
    "    \n",
    "    return rbm, errs, source_action_encoder, target_action_encoder, source_scaler, target_scaler"
   ]
  },
  {
   "cell_type": "code",
   "execution_count": 4,
   "metadata": {
    "collapsed": false
   },
   "outputs": [
    {
     "name": "stderr",
     "output_type": "stream",
     "text": [
      "squared reconstruction average batch error: 228.61272578125:   1%|▏         | 2/150 [00:02<03:03,  1.24s/it]//anaconda/lib/python3.5/site-packages/numpy/core/fromnumeric.py:2889: RuntimeWarning: Mean of empty slice.\n",
      "  out=out, **kwargs)\n",
      "//anaconda/lib/python3.5/site-packages/numpy/core/_methods.py:80: RuntimeWarning: invalid value encountered in double_scalars\n",
      "  ret = ret.dtype.type(ret / rcount)\n",
      "squared reconstruction average batch error: 27.892380029296874: 100%|██████████| 150/150 [02:57<00:00,  1.17s/it]\n"
     ]
    }
   ],
   "source": [
    "rbm, errs, source_action_encoder, target_action_encoder, source_scaler, target_scaler = train_transfer_mapping('2DMountainCar', '3DMountainCar', option_str='random')"
   ]
  },
  {
   "cell_type": "code",
   "execution_count": 5,
   "metadata": {
    "collapsed": false
   },
   "outputs": [
    {
     "data": {
      "image/png": "[encoded data removed]",
      "text/plain": [
       "<matplotlib.figure.Figure at 0x1c2745ef60>"
      ]
     },
     "metadata": {},
     "output_type": "display_data"
    }
   ],
   "source": [
    "from matplotlib import pyplot as plt\n",
    "import numpy as np\n",
    "\n",
    "plt.plot(range(len(errs)),errs)\n",
    "plt.title('FTrRBM reconstruction error')\n",
    "plt.xlabel('epoch')\n",
    "plt.ylabel('reconstruction error')\n",
    "plt.show()"
   ]
  },
  {
   "cell_type": "code",
   "execution_count": 6,
   "metadata": {
    "collapsed": false
   },
   "outputs": [],
   "source": [
    "def get_source_instances(source_env_str, target_env_str, option_str='random'):\n",
    "\n",
    "    source_random_path = ENVS_PATH_DICTIONARY[source_env_str]['instances_path'] + option_str + '_instances.pkl'\n",
    "    target_random_path = ENVS_PATH_DICTIONARY[target_env_str]['instances_path'] + option_str + '_instances.pkl'\n",
    "    source_optimal_path = ENVS_PATH_DICTIONARY[source_env_str]['instances_path'] + 'optimal_instances.pkl'\n",
    "    source_realistic_path = ENVS_PATH_DICTIONARY[source_env_str]['instances_path'] + 'realistic_instances.pkl'\n",
    "    \n",
    "    target_env = ENVS_PATH_DICTIONARY[target_env_str]['env']\n",
    "    # load source task random samples\n",
    "    source_action_encoder, source_random = unpack_samples(load_samples(source_random_path), OneHotEncoder(sparse=False))\n",
    "\n",
    "    # load target task random samples\n",
    "    target_action_encoder, target_random = unpack_samples(load_samples(target_random_path), OneHotEncoder(sparse=False))\n",
    "\n",
    "    # prepare samples\n",
    "    source_random, target_random = even_out_samplesizes(source_random, target_random)\n",
    "    source_scaler, source_random = utils.standardize_samples(source_random)\n",
    "    target_scaler, target_random = utils.standardize_samples(target_random)\n",
    "    \n",
    "    source_optimal = unpack_episodes(load_samples(source_optimal_path), source_action_encoder, fit_encoder=False)\n",
    "    source_scaled = source_scaler.transform(source_optimal)\n",
    "    \n",
    "    source_realistic = unpack_episodes([load_samples(source_realistic_path)], source_action_encoder, fit_encoder=False)\n",
    "    \n",
    "    return source_optimal, source_realistic\n",
    "\n",
    "source_optimal, source_realistic = get_source_instances('2DMountainCar', '3DMountainCar', option_str='random')"
   ]
  },
  {
   "cell_type": "code",
   "execution_count": null,
   "metadata": {
    "collapsed": false
   },
   "outputs": [],
   "source": []
  },
  {
   "cell_type": "code",
   "execution_count": 7,
   "metadata": {
    "collapsed": false
   },
   "outputs": [],
   "source": [
    "#source_instances = source_optimal\n",
    "source_instances = source_realistic\n",
    "\n",
    "source_trajectory = source_instances\n",
    "\n"
   ]
  },
  {
   "cell_type": "code",
   "execution_count": 8,
   "metadata": {
    "collapsed": false
   },
   "outputs": [
    {
     "name": "stdout",
     "output_type": "stream",
     "text": [
      "5000\n"
     ]
    }
   ],
   "source": [
    "print(len(source_instances))\n",
    "\n",
    "target_mapped = rbm.v2_predict(source_instances[:15000])\n",
    "target_mapped = target_scaler.inverse_transform(target_mapped)"
   ]
  },
  {
   "cell_type": "code",
   "execution_count": 9,
   "metadata": {
    "collapsed": false
   },
   "outputs": [],
   "source": [
    "mapped_trajectory = target_mapped"
   ]
  },
  {
   "cell_type": "code",
   "execution_count": 10,
   "metadata": {
    "collapsed": false
   },
   "outputs": [
    {
     "data": {
      "text/plain": [
       "5000"
      ]
     },
     "execution_count": 10,
     "metadata": {},
     "output_type": "execute_result"
    }
   ],
   "source": [
    "len(mapped_trajectory)"
   ]
  },
  {
   "cell_type": "code",
   "execution_count": null,
   "metadata": {
    "collapsed": false
   },
   "outputs": [],
   "source": []
  },
  {
   "cell_type": "code",
   "execution_count": 11,
   "metadata": {
    "collapsed": false
   },
   "outputs": [],
   "source": [
    "import pickle\n",
    "source_trajectory.dump('visualize_trajectories/2DMC-3DMC/source_trajectory.p')\n",
    "mapped_trajectory.dump('visualize_trajectories/2DMC-3DMC/mapped_trajectory.p')"
   ]
  },
  {
   "cell_type": "code",
   "execution_count": 12,
   "metadata": {
    "collapsed": false
   },
   "outputs": [],
   "source": [
    "from envs import *\n",
    "\n",
    "threeD = ENVS_DICTIONARY['3DMountainCar'](trailer=True, show_velo=True)\n",
    "twoD = ENVS_DICTIONARY['2DMountainCar'](trailer=True)"
   ]
  },
  {
   "cell_type": "code",
   "execution_count": 13,
   "metadata": {
    "collapsed": false
   },
   "outputs": [],
   "source": [
    "source_trajectory = np.load('visualize_trajectories/2DMC-3DMC/source_trajectory.p')\n",
    "mapped_trajectory = np.load('visualize_trajectories/2DMC-3DMC/mapped_trajectory.p')"
   ]
  },
  {
   "cell_type": "code",
   "execution_count": 14,
   "metadata": {
    "collapsed": false
   },
   "outputs": [],
   "source": [
    "for t in range(5000):\n",
    "    \n",
    "    twoD.state = source_trajectory[t]\n",
    "    twoD.last_few_positions.append((source_trajectory[t][0]))\n",
    "    if len(twoD.last_few_positions) == twoD.trail_num+1:\n",
    "        del twoD.last_few_positions[0]\n",
    "    twoD._render(action_vec=source_trajectory[t][4:])\n",
    "\n",
    "    threeD.state = mapped_trajectory[t]\n",
    "    threeD.last_few_positions.append((mapped_trajectory[t][0], mapped_trajectory[t][1]))\n",
    "    if len(threeD.last_few_positions) == threeD.trail_num+1:\n",
    "        del threeD.last_few_positions[0]\n",
    "    threeD.render_orthographic(action_vec=mapped_trajectory[t][8:])\n",
    "    \n",
    "    \n",
    "    \n",
    "threeD.close()\n",
    "twoD.close()"
   ]
  },
  {
   "cell_type": "code",
   "execution_count": null,
   "metadata": {
    "collapsed": false
   },
   "outputs": [],
   "source": []
  },
  {
   "cell_type": "code",
   "execution_count": null,
   "metadata": {
    "collapsed": true
   },
   "outputs": [],
   "source": []
  }
 ],
 "metadata": {
  "anaconda-cloud": {},
  "kernelspec": {
   "display_name": "Python [conda root]",
   "language": "python",
   "name": "conda-root-py"
  },
  "language_info": {
   "codemirror_mode": {
    "name": "ipython",
    "version": 3
   },
   "file_extension": ".py",
   "mimetype": "text/x-python",
   "name": "python",
   "nbconvert_exporter": "python",
   "pygments_lexer": "ipython3",
   "version": "3.5.2"
  }
 },
 "nbformat": 4,
 "nbformat_minor": 1
}
